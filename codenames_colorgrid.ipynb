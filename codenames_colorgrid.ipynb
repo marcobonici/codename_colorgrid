{
 "cells": [
  {
   "cell_type": "markdown",
   "metadata": {},
   "source": [
    "# Random generator CODENAMES' colorgrid\n",
    "In this notebook is generated a random colorgrid to play at CODENAMES.\n",
    "The number of white, blue, red, and black cards can be customized, with the constraint that their sum is sequal to 25.\n",
    "Here are listed the dafault values for each colour: feel free to change these numbers as you prefer!"
   ]
  },
  {
   "cell_type": "code",
   "execution_count": null,
   "metadata": {},
   "outputs": [],
   "source": [
    "white_cards = 7 \n",
    "blue_cards  = 8\n",
    "red_cards   = 9\n",
    "black_cards = 1"
   ]
  },
  {
   "cell_type": "markdown",
   "metadata": {},
   "source": [
    "The following block generates the colorgrid. *Do not modify it!*"
   ]
  },
  {
   "cell_type": "code",
   "execution_count": null,
   "metadata": {},
   "outputs": [],
   "source": [
    "import matplotlib.pyplot as plt\n",
    "import numpy as np\n",
    "from matplotlib.colors import ListedColormap\n",
    "import random\n",
    "w = np.zeros(white_cards)\n",
    "b = np.ones(blue_cards)\n",
    "r = np.ones(red_cards)*2\n",
    "k = np.ones(black_cards)*3\n",
    "x = np.concatenate((w, b, r, k), axis=0)\n",
    "for i in range(1000):\n",
    "    random.shuffle(x)\n",
    "fig = plt.figure()\n",
    "nrows = 5\n",
    "ncols = 5\n",
    "x = x.reshape((nrows, ncols))\n",
    "ax = fig.add_subplot(111)\n",
    "cmap = ListedColormap(['w', 'b', 'r', 'k'])\n",
    "cax = ax.matshow(x,cmap=cmap)\n",
    "plt.show()"
   ]
  }
 ],
 "metadata": {
  "kernelspec": {
   "display_name": "Python 3",
   "language": "python",
   "name": "python3"
  },
  "language_info": {
   "codemirror_mode": {
    "name": "ipython",
    "version": 3
   },
   "file_extension": ".py",
   "mimetype": "text/x-python",
   "name": "python",
   "nbconvert_exporter": "python",
   "pygments_lexer": "ipython3",
   "version": "3.8.6"
  }
 },
 "nbformat": 4,
 "nbformat_minor": 4
}
